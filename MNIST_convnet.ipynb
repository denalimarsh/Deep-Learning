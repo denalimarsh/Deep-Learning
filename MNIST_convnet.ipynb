{
  "nbformat": 4,
  "nbformat_minor": 0,
  "metadata": {
    "colab": {
      "provenance": [],
      "gpuType": "T4",
      "authorship_tag": "ABX9TyNGFhLQ7rOZ0Ly8Gh3i0Vg8",
      "include_colab_link": true
    },
    "kernelspec": {
      "name": "python3",
      "display_name": "Python 3"
    },
    "language_info": {
      "name": "python"
    },
    "gpuClass": "standard",
    "accelerator": "GPU"
  },
  "cells": [
    {
      "cell_type": "markdown",
      "metadata": {
        "id": "view-in-github",
        "colab_type": "text"
      },
      "source": [
        "<a href=\"https://colab.research.google.com/github/denalimarsh/Deep-Learning/blob/main/MNIST_convnet.ipynb\" target=\"_parent\"><img src=\"https://colab.research.google.com/assets/colab-badge.svg\" alt=\"Open In Colab\"/></a>"
      ]
    },
    {
      "cell_type": "code",
      "execution_count": null,
      "metadata": {
        "id": "8E52jjAjj3nB"
      },
      "outputs": [],
      "source": [
        "# ------------- Setup -------------\n",
        "\n",
        "import numpy as np\n",
        "from tensorflow import keras\n",
        "from tensorflow.keras import layers\n",
        "\n",
        "# ------------- Prepare the data -------------\n",
        "# Model / data parameters\n",
        "num_classes = 10\n",
        "input_shape = (28, 28, 1)\n",
        "\n",
        "# Load the data and split it between train and test sets\n",
        "(x_train, y_train), (x_test, y_test) = keras.datasets.mnist.load_data()\n",
        "\n",
        "# Scale images to the [0, 1] range\n",
        "x_train = x_train.astype(\"float32\") / 255\n",
        "x_test = x_test.astype(\"float32\") / 255\n",
        "\n",
        "# Make sure images have shape (28, 28, 1)\n",
        "x_train = np.expand_dims(x_train, -1) # Adds an additional dimension to the end of the shape (due to -1)\n",
        "x_test = np.expand_dims(x_test, -1)\n",
        "print(\"x_train shape:\", x_train.shape)\n",
        "print(x_train.shape[0], \"train samples\")\n",
        "print(x_test.shape[0], \"test samples\")\n",
        "\n",
        "# Convert class vectors to binary class matrices\n",
        "y_train = keras.utils.to_categorical(y_train, num_classes)\n",
        "y_test = keras.utils.to_categorical(y_test, num_classes)\n",
        "\n",
        "# ------------- Layer descriptions -------------\n",
        "\n",
        "# Conv2D: Convolutional Neural Networks (CNN) use convolution instead of matrix multiplication\n",
        "# - first param is number of filters that the convolutional layer will learn\n",
        "# - layers earlier in the model learn fewer filters, later layers learn more filters\n",
        "\n",
        "# MaxPooling2D: Max pooling is used to reduce spatial dimensions of output\n",
        "# - has good results with image data\n",
        "# - downsizes the number of dimensions, selecting the MAX value from batch\n",
        "\n",
        "# A common practice for CNN architecture design is to:\n",
        "# - decrease output spatial volume as our number of filters increases (by using max pooling)\n",
        "# - increase number of filters per layer by power of 2\n",
        "\n",
        "# ------------- Build the model -------------\n",
        "\n",
        "model = keras.Sequential(\n",
        "    [\n",
        "        keras.Input(shape=input_shape),\n",
        "        layers.Conv2D(32, kernel_size=(3, 3), activation=\"relu\"),\n",
        "        layers.MaxPooling2D(pool_size=(2, 2)),\n",
        "        layers.Conv2D(64, kernel_size=(3, 3), activation=\"relu\"),\n",
        "        layers.MaxPooling2D(pool_size=(2, 2)),\n",
        "        layers.Flatten(),\n",
        "        layers.Dropout(0.5),\n",
        "        layers.Dense(num_classes, activation=\"softmax\"),\n",
        "    ]\n",
        ")\n",
        "# model.summary()\n",
        "\n",
        "# ------------- Train & evaluate the model -------------\n",
        "batch_size = 128\n",
        "epochs = 15\n",
        "\n",
        "model.compile(\n",
        "    loss=\"categorical_crossentropy\", # multiple output target labels\n",
        "    optimizer=\"adam\", # version of SGD that realizes benefits of AdaGrad and RMSProp\n",
        "    metrics=[\"accuracy\"]\n",
        ")\n",
        "\n",
        "model.fit(x_train, y_train, batch_size=batch_size, epochs=epochs, validation_split=0.1)\n",
        "\n",
        "score = model.evaluate(x_test, y_test, verbose=0)\n",
        "print(\"Test loss:\", score[0])\n",
        "print(\"Test accuracy:\", score[1])"
      ]
    }
  ]
}