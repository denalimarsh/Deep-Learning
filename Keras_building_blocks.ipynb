{
  "nbformat": 4,
  "nbformat_minor": 0,
  "metadata": {
    "colab": {
      "provenance": [],
      "authorship_tag": "ABX9TyMd6XbQ3sKEwJoi9rJN0sZE",
      "include_colab_link": true
    },
    "kernelspec": {
      "name": "python3",
      "display_name": "Python 3"
    },
    "language_info": {
      "name": "python"
    }
  },
  "cells": [
    {
      "cell_type": "markdown",
      "metadata": {
        "id": "view-in-github",
        "colab_type": "text"
      },
      "source": [
        "<a href=\"https://colab.research.google.com/github/denalimarsh/Deep-Learning/blob/main/Keras_building_blocks.ipynb\" target=\"_parent\"><img src=\"https://colab.research.google.com/assets/colab-badge.svg\" alt=\"Open In Colab\"/></a>"
      ]
    },
    {
      "cell_type": "code",
      "execution_count": null,
      "metadata": {
        "id": "QpB_mTRNYd45"
      },
      "outputs": [],
      "source": [
        "# ------------- Building a dense layer -------------\n",
        "from tensorflow import keras\n",
        "\n",
        "class SimpleDense(keras.layers.Layer): # All Keras layers inherit from the base Layers class\n",
        "  def __init__(self, units, activation=None):\n",
        "    super().__init__()\n",
        "    self.units = units\n",
        "    self.activation = activation\n",
        "  \n",
        "  # build() creates weights\n",
        "  def build(self, input_shape):\n",
        "    input_dim = input_shape[-1]\n",
        "\n",
        "    # add_weight is a shortcut method for creating weights, it is the same as:\n",
        "    # self.W = tf.Variable(tf.random.uniform(w_shape))\n",
        "    self.W = self.add_weight(shape=(input_dim, self.units), initializer=\"random_normal\")\n",
        "    self.b = self.add_weight(shape=(self.units,), initializer=\"zeros\")\n",
        "\n",
        "  # call() executes the forward pass. In pseudocode, it looks like this:\n",
        "  #\n",
        "  # if not self.built:\n",
        "  #  self.build(inputs.shape)\n",
        "  #  self.built = True\n",
        "  # return self.call(inputs)\n",
        "  #\n",
        "\n",
        "  def call(self, inputs):\n",
        "    y = tf.matmul(inputs, self.W) + self.b\n",
        "    if self.activation is not None:\n",
        "      y = self.activation(y)\n",
        "    return y\n",
        "\n",
        "# ------------- Keras dense layers -------------\n",
        "\n",
        "from tensorflow.keras import layers\n",
        "layer = layers.Dense(32, activation=\"relu\") # A dense layer with 32 output units"
      ]
    },
    {
      "cell_type": "code",
      "source": [
        "# ------------- Keras linear classifier -------------\n",
        "model = keras.Sequential([keras.layers.Dense(1)])\n",
        "\n",
        "# compile configures the training process\n",
        "model.compile(optimizer=keras.optimizers.RMSprop(learning_rate=0.1),\n",
        "              loss=keras.losses.MeanSquaredError(),\n",
        "              metrics=[keras.metrics.BinaryAccuracy()])\n",
        "# It's possible to use shortcuts for optimizer, loss, and metrics parameters:\n",
        "# model.compile(optimizer=\"rmsprop\", loss=\"mean_squared_error\", metrics=[\"accuracy\"])\n",
        "\n",
        "# fit implements the training loop\n",
        "history = model.fit(\n",
        "    inputs,        # Input samples as NumPy array\n",
        "    targets,       # The corresponding training targets as NumPy array\n",
        "    epochs=5,      # Training loop will iterate over the data 5 times\n",
        "    batch_size=128 # The training loop will iterate over the data in batches of 128 samples\n",
        ")\n",
        "print(history.history)"
      ],
      "metadata": {
        "id": "k_BMNtbwhF_l"
      },
      "execution_count": null,
      "outputs": []
    },
    {
      "cell_type": "code",
      "source": [
        "# ------------- Using validation data as a control group -------------\n",
        "from tensorflow import keras\n",
        "\n",
        "model = keras.Sequential([keras.layers.Dense(1)]) # Define a model with one Dense Layer\n",
        "model.compile(optimizer=keras.optimizers.RMSprop(learning_rate=0.1), # Define model's training strategy\n",
        "              loss=keras.losses.MeanSquaredError(),\n",
        "              metrics=[keras.metrics.BinaryAccuracy()])\n",
        "\n",
        "# Shuffle inputs/target labels so validation data samples aren't from a single class of input data\n",
        "indices_permutation = np.random.permutation(len(inputs))\n",
        "shuffled_inputs = inputs[indices_permutation]\n",
        "shuffled_targets = targets[indices_permuation]\n",
        "\n",
        "# Reserve 30% of training inputs/targets for validation\n",
        "num_validation_samples = int(0.3 * len(inputs))\n",
        "val_inputs = shuffled_inputs[:num_validation_samples]\n",
        "val_targets = shuffled_targets[:num_validation_samples]\n",
        "training_inputs = shuffled_inputs[num_validation_samples:]\n",
        "training_targets = shuffled_targets[num_validation_samples:]\n",
        "\n",
        "model.fit(\n",
        "    training_inputs,  # Training data used to update model weights\n",
        "    training_targets, # Training data used to update model weights\n",
        "    epochs=5,\n",
        "    batch_size=16,\n",
        "    validation_data=(val_inputs, val_targets) # Validation data used to monitor the loss and metrics\n",
        ")\n",
        "\n",
        "# model.evaluate() can be used to compute validation loss and metirics after the training is complete\n",
        "loss_and_metrics = model.evaluate(val_inputs, val_targets, batch_size=128) \n",
        "\n",
        "# ------------- Inference: using a model after training -------------\n",
        "\n",
        "# predict() iterates over small batches of data and returns a NumPy array of predictions\n",
        "predictions = model.predict(new_inputs, batch_size=128)\n",
        "print(predictions[:10])"
      ],
      "metadata": {
        "id": "bM6GyZaWfHDe"
      },
      "execution_count": null,
      "outputs": []
    }
  ]
}